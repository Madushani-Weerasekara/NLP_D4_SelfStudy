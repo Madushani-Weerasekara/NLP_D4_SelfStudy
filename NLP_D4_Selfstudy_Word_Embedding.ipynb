{
  "nbformat": 4,
  "nbformat_minor": 0,
  "metadata": {
    "colab": {
      "provenance": [],
      "authorship_tag": "ABX9TyPx45PlRHeSO0FqI/3O1Yy9",
      "include_colab_link": true
    },
    "kernelspec": {
      "name": "python3",
      "display_name": "Python 3"
    },
    "language_info": {
      "name": "python"
    }
  },
  "cells": [
    {
      "cell_type": "markdown",
      "metadata": {
        "id": "view-in-github",
        "colab_type": "text"
      },
      "source": [
        "<a href=\"https://colab.research.google.com/github/Madushani-Weerasekara/NLP_D4_SelfStudy/blob/main/NLP_D4_Selfstudy_Word_Embedding.ipynb\" target=\"_parent\"><img src=\"https://colab.research.google.com/assets/colab-badge.svg\" alt=\"Open In Colab\"/></a>"
      ]
    },
    {
      "cell_type": "code",
      "source": [
        "!pip install gensim"
      ],
      "metadata": {
        "colab": {
          "base_uri": "https://localhost:8080/"
        },
        "id": "nkoCBpP2kVJt",
        "outputId": "ca8f86db-fcca-474c-c405-5b953f660960"
      },
      "execution_count": 68,
      "outputs": [
        {
          "output_type": "stream",
          "name": "stdout",
          "text": [
            "Requirement already satisfied: gensim in /usr/local/lib/python3.10/dist-packages (4.3.2)\n",
            "Requirement already satisfied: numpy>=1.18.5 in /usr/local/lib/python3.10/dist-packages (from gensim) (1.23.5)\n",
            "Requirement already satisfied: scipy>=1.7.0 in /usr/local/lib/python3.10/dist-packages (from gensim) (1.11.4)\n",
            "Requirement already satisfied: smart-open>=1.8.1 in /usr/local/lib/python3.10/dist-packages (from gensim) (6.4.0)\n"
          ]
        }
      ]
    },
    {
      "cell_type": "code",
      "source": [
        "import gensim"
      ],
      "metadata": {
        "id": "rhy-yiu8kdZr"
      },
      "execution_count": 69,
      "outputs": []
    },
    {
      "cell_type": "code",
      "source": [
        "from gensim.models import Word2Vec, keyedvectors"
      ],
      "metadata": {
        "id": "G4mo7nIakgkv"
      },
      "execution_count": 70,
      "outputs": []
    },
    {
      "cell_type": "code",
      "source": [
        "import gensim.downloader as api\n",
        "wv = api.load('word2vec-google-news-300')\n",
        "vec_king = wv['king']"
      ],
      "metadata": {
        "id": "YrnAvFCmk394"
      },
      "execution_count": null,
      "outputs": []
    },
    {
      "cell_type": "code",
      "source": [
        "vec_king"
      ],
      "metadata": {
        "id": "KGNSurMvqJrQ"
      },
      "execution_count": null,
      "outputs": []
    },
    {
      "cell_type": "code",
      "source": [
        "wv['man']"
      ],
      "metadata": {
        "id": "v4zteqV66Oaq"
      },
      "execution_count": null,
      "outputs": []
    },
    {
      "cell_type": "code",
      "source": [
        "wv.most_similar('man')"
      ],
      "metadata": {
        "id": "2GfJl4aC7Of3"
      },
      "execution_count": null,
      "outputs": []
    },
    {
      "cell_type": "code",
      "source": [
        "wv.most_similar('king')"
      ],
      "metadata": {
        "id": "vsiOHNR475fN"
      },
      "execution_count": null,
      "outputs": []
    },
    {
      "cell_type": "code",
      "source": [
        "# To find cosine similarity\n",
        "wv.similarity('man', 'king')"
      ],
      "metadata": {
        "id": "twvZrLnd9tqU"
      },
      "execution_count": null,
      "outputs": []
    },
    {
      "cell_type": "code",
      "source": [
        "wv.similarity('python', 'programmer')"
      ],
      "metadata": {
        "id": "tNwS_VeK-Niv"
      },
      "execution_count": null,
      "outputs": []
    },
    {
      "cell_type": "code",
      "source": [
        "wv.similarity('king', 'queen')"
      ],
      "metadata": {
        "id": "uj9YcsSh_0Bx"
      },
      "execution_count": null,
      "outputs": []
    },
    {
      "cell_type": "code",
      "source": [
        "vec = wv['king']-wv['man']+wv['woman']\n",
        "wv.most_similar([vec])\n"
      ],
      "metadata": {
        "id": "Vjg0T12h-p0F"
      },
      "execution_count": null,
      "outputs": []
    },
    {
      "cell_type": "code",
      "source": [
        "vec"
      ],
      "metadata": {
        "id": "NVZHoCoVA6ez"
      },
      "execution_count": null,
      "outputs": []
    },
    {
      "cell_type": "code",
      "source": [
        "# wordcloud\n",
        "import os\n",
        "from os import path\n",
        "from wordcloud import WordCloud"
      ],
      "metadata": {
        "id": "3CdXLvMYCflf"
      },
      "execution_count": null,
      "outputs": []
    },
    {
      "cell_type": "code",
      "source": [
        "text = \"\"\"Alibaba CEO Eddie Wu to lead Taobao and Tmall e-commerce business in latest reshuffle. Alibaba Group CEO Eddie Wu is taking over the top role at the company's Taobao and Tmall e-commerce business, replacing Trudy Dai in the Chinese internet tech giant's latest management shakeup this year.\"\"\""
      ],
      "metadata": {
        "id": "4eA1IdjCGm5z"
      },
      "execution_count": null,
      "outputs": []
    },
    {
      "cell_type": "code",
      "source": [
        "# Generate a wordcloud image\n",
        "wordcloud = WordCloud().generate(text)"
      ],
      "metadata": {
        "id": "vgIxQDjGHEHy"
      },
      "execution_count": null,
      "outputs": []
    },
    {
      "cell_type": "code",
      "source": [
        "# Display the generated image\n",
        "  # The matplotlib way:\n",
        "\n",
        "  import matplotlib.pyplot as plt\n",
        "  plt.imshow(wordcloud, interpolation='bilinear')\n",
        "  plt.axis('off')"
      ],
      "metadata": {
        "id": "U-EEBlYpIH9P"
      },
      "execution_count": null,
      "outputs": []
    }
  ]
}